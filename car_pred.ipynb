{
 "cells": [
  {
   "cell_type": "code",
   "execution_count": 425,
   "metadata": {},
   "outputs": [],
   "source": [
    "import pandas as pd\n",
    "import numpy as np\n",
    "import seaborn as sns\n",
    "import matplotlib.pyplot as plt"
   ]
  },
  {
   "cell_type": "markdown",
   "metadata": {},
   "source": [
    "##### Load the csv files"
   ]
  },
  {
   "cell_type": "code",
   "execution_count": 426,
   "metadata": {},
   "outputs": [],
   "source": [
    "car_data = pd.read_csv('car data.csv')\n",
    "cardekho = pd.read_csv('CAR DETAILS FROM CAR DEKHO.csv')\n",
    "car_detail = pd.read_csv('Car details v3.csv')\n"
   ]
  },
  {
   "cell_type": "code",
   "execution_count": 427,
   "metadata": {},
   "outputs": [
    {
     "data": {
      "text/html": [
       "<div>\n",
       "<style scoped>\n",
       "    .dataframe tbody tr th:only-of-type {\n",
       "        vertical-align: middle;\n",
       "    }\n",
       "\n",
       "    .dataframe tbody tr th {\n",
       "        vertical-align: top;\n",
       "    }\n",
       "\n",
       "    .dataframe thead th {\n",
       "        text-align: right;\n",
       "    }\n",
       "</style>\n",
       "<table border=\"1\" class=\"dataframe\">\n",
       "  <thead>\n",
       "    <tr style=\"text-align: right;\">\n",
       "      <th></th>\n",
       "      <th>Car_Name</th>\n",
       "      <th>Year</th>\n",
       "      <th>Selling_Price</th>\n",
       "      <th>Present_Price</th>\n",
       "      <th>Kms_Driven</th>\n",
       "      <th>Fuel_Type</th>\n",
       "      <th>Seller_Type</th>\n",
       "      <th>Transmission</th>\n",
       "      <th>Owner</th>\n",
       "    </tr>\n",
       "  </thead>\n",
       "  <tbody>\n",
       "    <tr>\n",
       "      <th>0</th>\n",
       "      <td>ritz</td>\n",
       "      <td>2014</td>\n",
       "      <td>3.35</td>\n",
       "      <td>5.59</td>\n",
       "      <td>27000</td>\n",
       "      <td>Petrol</td>\n",
       "      <td>Dealer</td>\n",
       "      <td>Manual</td>\n",
       "      <td>0</td>\n",
       "    </tr>\n",
       "    <tr>\n",
       "      <th>1</th>\n",
       "      <td>sx4</td>\n",
       "      <td>2013</td>\n",
       "      <td>4.75</td>\n",
       "      <td>9.54</td>\n",
       "      <td>43000</td>\n",
       "      <td>Diesel</td>\n",
       "      <td>Dealer</td>\n",
       "      <td>Manual</td>\n",
       "      <td>0</td>\n",
       "    </tr>\n",
       "    <tr>\n",
       "      <th>2</th>\n",
       "      <td>ciaz</td>\n",
       "      <td>2017</td>\n",
       "      <td>7.25</td>\n",
       "      <td>9.85</td>\n",
       "      <td>6900</td>\n",
       "      <td>Petrol</td>\n",
       "      <td>Dealer</td>\n",
       "      <td>Manual</td>\n",
       "      <td>0</td>\n",
       "    </tr>\n",
       "    <tr>\n",
       "      <th>3</th>\n",
       "      <td>wagon r</td>\n",
       "      <td>2011</td>\n",
       "      <td>2.85</td>\n",
       "      <td>4.15</td>\n",
       "      <td>5200</td>\n",
       "      <td>Petrol</td>\n",
       "      <td>Dealer</td>\n",
       "      <td>Manual</td>\n",
       "      <td>0</td>\n",
       "    </tr>\n",
       "    <tr>\n",
       "      <th>4</th>\n",
       "      <td>swift</td>\n",
       "      <td>2014</td>\n",
       "      <td>4.60</td>\n",
       "      <td>6.87</td>\n",
       "      <td>42450</td>\n",
       "      <td>Diesel</td>\n",
       "      <td>Dealer</td>\n",
       "      <td>Manual</td>\n",
       "      <td>0</td>\n",
       "    </tr>\n",
       "  </tbody>\n",
       "</table>\n",
       "</div>"
      ],
      "text/plain": [
       "  Car_Name  Year  Selling_Price  Present_Price  Kms_Driven Fuel_Type  \\\n",
       "0     ritz  2014           3.35           5.59       27000    Petrol   \n",
       "1      sx4  2013           4.75           9.54       43000    Diesel   \n",
       "2     ciaz  2017           7.25           9.85        6900    Petrol   \n",
       "3  wagon r  2011           2.85           4.15        5200    Petrol   \n",
       "4    swift  2014           4.60           6.87       42450    Diesel   \n",
       "\n",
       "  Seller_Type Transmission  Owner  \n",
       "0      Dealer       Manual      0  \n",
       "1      Dealer       Manual      0  \n",
       "2      Dealer       Manual      0  \n",
       "3      Dealer       Manual      0  \n",
       "4      Dealer       Manual      0  "
      ]
     },
     "execution_count": 427,
     "metadata": {},
     "output_type": "execute_result"
    }
   ],
   "source": [
    "car_data.head()"
   ]
  },
  {
   "cell_type": "code",
   "execution_count": 428,
   "metadata": {},
   "outputs": [
    {
     "data": {
      "text/plain": [
       "(301, 9)"
      ]
     },
     "execution_count": 428,
     "metadata": {},
     "output_type": "execute_result"
    }
   ],
   "source": [
    "car_data.shape"
   ]
  },
  {
   "cell_type": "code",
   "execution_count": 429,
   "metadata": {},
   "outputs": [
    {
     "data": {
      "text/html": [
       "<div>\n",
       "<style scoped>\n",
       "    .dataframe tbody tr th:only-of-type {\n",
       "        vertical-align: middle;\n",
       "    }\n",
       "\n",
       "    .dataframe tbody tr th {\n",
       "        vertical-align: top;\n",
       "    }\n",
       "\n",
       "    .dataframe thead th {\n",
       "        text-align: right;\n",
       "    }\n",
       "</style>\n",
       "<table border=\"1\" class=\"dataframe\">\n",
       "  <thead>\n",
       "    <tr style=\"text-align: right;\">\n",
       "      <th></th>\n",
       "      <th>name</th>\n",
       "      <th>year</th>\n",
       "      <th>selling_price</th>\n",
       "      <th>km_driven</th>\n",
       "      <th>fuel</th>\n",
       "      <th>seller_type</th>\n",
       "      <th>transmission</th>\n",
       "      <th>owner</th>\n",
       "    </tr>\n",
       "  </thead>\n",
       "  <tbody>\n",
       "    <tr>\n",
       "      <th>0</th>\n",
       "      <td>Maruti 800 AC</td>\n",
       "      <td>2007</td>\n",
       "      <td>60000</td>\n",
       "      <td>70000</td>\n",
       "      <td>Petrol</td>\n",
       "      <td>Individual</td>\n",
       "      <td>Manual</td>\n",
       "      <td>First Owner</td>\n",
       "    </tr>\n",
       "    <tr>\n",
       "      <th>1</th>\n",
       "      <td>Maruti Wagon R LXI Minor</td>\n",
       "      <td>2007</td>\n",
       "      <td>135000</td>\n",
       "      <td>50000</td>\n",
       "      <td>Petrol</td>\n",
       "      <td>Individual</td>\n",
       "      <td>Manual</td>\n",
       "      <td>First Owner</td>\n",
       "    </tr>\n",
       "    <tr>\n",
       "      <th>2</th>\n",
       "      <td>Hyundai Verna 1.6 SX</td>\n",
       "      <td>2012</td>\n",
       "      <td>600000</td>\n",
       "      <td>100000</td>\n",
       "      <td>Diesel</td>\n",
       "      <td>Individual</td>\n",
       "      <td>Manual</td>\n",
       "      <td>First Owner</td>\n",
       "    </tr>\n",
       "    <tr>\n",
       "      <th>3</th>\n",
       "      <td>Datsun RediGO T Option</td>\n",
       "      <td>2017</td>\n",
       "      <td>250000</td>\n",
       "      <td>46000</td>\n",
       "      <td>Petrol</td>\n",
       "      <td>Individual</td>\n",
       "      <td>Manual</td>\n",
       "      <td>First Owner</td>\n",
       "    </tr>\n",
       "    <tr>\n",
       "      <th>4</th>\n",
       "      <td>Honda Amaze VX i-DTEC</td>\n",
       "      <td>2014</td>\n",
       "      <td>450000</td>\n",
       "      <td>141000</td>\n",
       "      <td>Diesel</td>\n",
       "      <td>Individual</td>\n",
       "      <td>Manual</td>\n",
       "      <td>Second Owner</td>\n",
       "    </tr>\n",
       "  </tbody>\n",
       "</table>\n",
       "</div>"
      ],
      "text/plain": [
       "                       name  year  selling_price  km_driven    fuel  \\\n",
       "0             Maruti 800 AC  2007          60000      70000  Petrol   \n",
       "1  Maruti Wagon R LXI Minor  2007         135000      50000  Petrol   \n",
       "2      Hyundai Verna 1.6 SX  2012         600000     100000  Diesel   \n",
       "3    Datsun RediGO T Option  2017         250000      46000  Petrol   \n",
       "4     Honda Amaze VX i-DTEC  2014         450000     141000  Diesel   \n",
       "\n",
       "  seller_type transmission         owner  \n",
       "0  Individual       Manual   First Owner  \n",
       "1  Individual       Manual   First Owner  \n",
       "2  Individual       Manual   First Owner  \n",
       "3  Individual       Manual   First Owner  \n",
       "4  Individual       Manual  Second Owner  "
      ]
     },
     "execution_count": 429,
     "metadata": {},
     "output_type": "execute_result"
    }
   ],
   "source": [
    "cardekho.head()"
   ]
  },
  {
   "cell_type": "code",
   "execution_count": 430,
   "metadata": {},
   "outputs": [
    {
     "data": {
      "text/plain": [
       "(4340, 8)"
      ]
     },
     "execution_count": 430,
     "metadata": {},
     "output_type": "execute_result"
    }
   ],
   "source": [
    "cardekho.shape"
   ]
  },
  {
   "cell_type": "code",
   "execution_count": 431,
   "metadata": {},
   "outputs": [
    {
     "data": {
      "text/html": [
       "<div>\n",
       "<style scoped>\n",
       "    .dataframe tbody tr th:only-of-type {\n",
       "        vertical-align: middle;\n",
       "    }\n",
       "\n",
       "    .dataframe tbody tr th {\n",
       "        vertical-align: top;\n",
       "    }\n",
       "\n",
       "    .dataframe thead th {\n",
       "        text-align: right;\n",
       "    }\n",
       "</style>\n",
       "<table border=\"1\" class=\"dataframe\">\n",
       "  <thead>\n",
       "    <tr style=\"text-align: right;\">\n",
       "      <th></th>\n",
       "      <th>name</th>\n",
       "      <th>year</th>\n",
       "      <th>selling_price</th>\n",
       "      <th>km_driven</th>\n",
       "      <th>fuel</th>\n",
       "      <th>seller_type</th>\n",
       "      <th>transmission</th>\n",
       "      <th>owner</th>\n",
       "      <th>mileage</th>\n",
       "      <th>engine</th>\n",
       "      <th>max_power</th>\n",
       "      <th>torque</th>\n",
       "      <th>seats</th>\n",
       "    </tr>\n",
       "  </thead>\n",
       "  <tbody>\n",
       "    <tr>\n",
       "      <th>0</th>\n",
       "      <td>Maruti Swift Dzire VDI</td>\n",
       "      <td>2014</td>\n",
       "      <td>450000</td>\n",
       "      <td>145500</td>\n",
       "      <td>Diesel</td>\n",
       "      <td>Individual</td>\n",
       "      <td>Manual</td>\n",
       "      <td>First Owner</td>\n",
       "      <td>23.4 kmpl</td>\n",
       "      <td>1248 CC</td>\n",
       "      <td>74 bhp</td>\n",
       "      <td>190Nm@ 2000rpm</td>\n",
       "      <td>5.0</td>\n",
       "    </tr>\n",
       "    <tr>\n",
       "      <th>1</th>\n",
       "      <td>Skoda Rapid 1.5 TDI Ambition</td>\n",
       "      <td>2014</td>\n",
       "      <td>370000</td>\n",
       "      <td>120000</td>\n",
       "      <td>Diesel</td>\n",
       "      <td>Individual</td>\n",
       "      <td>Manual</td>\n",
       "      <td>Second Owner</td>\n",
       "      <td>21.14 kmpl</td>\n",
       "      <td>1498 CC</td>\n",
       "      <td>103.52 bhp</td>\n",
       "      <td>250Nm@ 1500-2500rpm</td>\n",
       "      <td>5.0</td>\n",
       "    </tr>\n",
       "    <tr>\n",
       "      <th>2</th>\n",
       "      <td>Honda City 2017-2020 EXi</td>\n",
       "      <td>2006</td>\n",
       "      <td>158000</td>\n",
       "      <td>140000</td>\n",
       "      <td>Petrol</td>\n",
       "      <td>Individual</td>\n",
       "      <td>Manual</td>\n",
       "      <td>Third Owner</td>\n",
       "      <td>17.7 kmpl</td>\n",
       "      <td>1497 CC</td>\n",
       "      <td>78 bhp</td>\n",
       "      <td>12.7@ 2,700(kgm@ rpm)</td>\n",
       "      <td>5.0</td>\n",
       "    </tr>\n",
       "    <tr>\n",
       "      <th>3</th>\n",
       "      <td>Hyundai i20 Sportz Diesel</td>\n",
       "      <td>2010</td>\n",
       "      <td>225000</td>\n",
       "      <td>127000</td>\n",
       "      <td>Diesel</td>\n",
       "      <td>Individual</td>\n",
       "      <td>Manual</td>\n",
       "      <td>First Owner</td>\n",
       "      <td>23.0 kmpl</td>\n",
       "      <td>1396 CC</td>\n",
       "      <td>90 bhp</td>\n",
       "      <td>22.4 kgm at 1750-2750rpm</td>\n",
       "      <td>5.0</td>\n",
       "    </tr>\n",
       "    <tr>\n",
       "      <th>4</th>\n",
       "      <td>Maruti Swift VXI BSIII</td>\n",
       "      <td>2007</td>\n",
       "      <td>130000</td>\n",
       "      <td>120000</td>\n",
       "      <td>Petrol</td>\n",
       "      <td>Individual</td>\n",
       "      <td>Manual</td>\n",
       "      <td>First Owner</td>\n",
       "      <td>16.1 kmpl</td>\n",
       "      <td>1298 CC</td>\n",
       "      <td>88.2 bhp</td>\n",
       "      <td>11.5@ 4,500(kgm@ rpm)</td>\n",
       "      <td>5.0</td>\n",
       "    </tr>\n",
       "    <tr>\n",
       "      <th>5</th>\n",
       "      <td>Hyundai Xcent 1.2 VTVT E Plus</td>\n",
       "      <td>2017</td>\n",
       "      <td>440000</td>\n",
       "      <td>45000</td>\n",
       "      <td>Petrol</td>\n",
       "      <td>Individual</td>\n",
       "      <td>Manual</td>\n",
       "      <td>First Owner</td>\n",
       "      <td>20.14 kmpl</td>\n",
       "      <td>1197 CC</td>\n",
       "      <td>81.86 bhp</td>\n",
       "      <td>113.75nm@ 4000rpm</td>\n",
       "      <td>5.0</td>\n",
       "    </tr>\n",
       "    <tr>\n",
       "      <th>6</th>\n",
       "      <td>Maruti Wagon R LXI DUO BSIII</td>\n",
       "      <td>2007</td>\n",
       "      <td>96000</td>\n",
       "      <td>175000</td>\n",
       "      <td>LPG</td>\n",
       "      <td>Individual</td>\n",
       "      <td>Manual</td>\n",
       "      <td>First Owner</td>\n",
       "      <td>17.3 km/kg</td>\n",
       "      <td>1061 CC</td>\n",
       "      <td>57.5 bhp</td>\n",
       "      <td>7.8@ 4,500(kgm@ rpm)</td>\n",
       "      <td>5.0</td>\n",
       "    </tr>\n",
       "    <tr>\n",
       "      <th>7</th>\n",
       "      <td>Maruti 800 DX BSII</td>\n",
       "      <td>2001</td>\n",
       "      <td>45000</td>\n",
       "      <td>5000</td>\n",
       "      <td>Petrol</td>\n",
       "      <td>Individual</td>\n",
       "      <td>Manual</td>\n",
       "      <td>Second Owner</td>\n",
       "      <td>16.1 kmpl</td>\n",
       "      <td>796 CC</td>\n",
       "      <td>37 bhp</td>\n",
       "      <td>59Nm@ 2500rpm</td>\n",
       "      <td>4.0</td>\n",
       "    </tr>\n",
       "    <tr>\n",
       "      <th>8</th>\n",
       "      <td>Toyota Etios VXD</td>\n",
       "      <td>2011</td>\n",
       "      <td>350000</td>\n",
       "      <td>90000</td>\n",
       "      <td>Diesel</td>\n",
       "      <td>Individual</td>\n",
       "      <td>Manual</td>\n",
       "      <td>First Owner</td>\n",
       "      <td>23.59 kmpl</td>\n",
       "      <td>1364 CC</td>\n",
       "      <td>67.1 bhp</td>\n",
       "      <td>170Nm@ 1800-2400rpm</td>\n",
       "      <td>5.0</td>\n",
       "    </tr>\n",
       "    <tr>\n",
       "      <th>9</th>\n",
       "      <td>Ford Figo Diesel Celebration Edition</td>\n",
       "      <td>2013</td>\n",
       "      <td>200000</td>\n",
       "      <td>169000</td>\n",
       "      <td>Diesel</td>\n",
       "      <td>Individual</td>\n",
       "      <td>Manual</td>\n",
       "      <td>First Owner</td>\n",
       "      <td>20.0 kmpl</td>\n",
       "      <td>1399 CC</td>\n",
       "      <td>68.1 bhp</td>\n",
       "      <td>160Nm@ 2000rpm</td>\n",
       "      <td>5.0</td>\n",
       "    </tr>\n",
       "  </tbody>\n",
       "</table>\n",
       "</div>"
      ],
      "text/plain": [
       "                                   name  year  selling_price  km_driven  \\\n",
       "0                Maruti Swift Dzire VDI  2014         450000     145500   \n",
       "1          Skoda Rapid 1.5 TDI Ambition  2014         370000     120000   \n",
       "2              Honda City 2017-2020 EXi  2006         158000     140000   \n",
       "3             Hyundai i20 Sportz Diesel  2010         225000     127000   \n",
       "4                Maruti Swift VXI BSIII  2007         130000     120000   \n",
       "5         Hyundai Xcent 1.2 VTVT E Plus  2017         440000      45000   \n",
       "6          Maruti Wagon R LXI DUO BSIII  2007          96000     175000   \n",
       "7                    Maruti 800 DX BSII  2001          45000       5000   \n",
       "8                      Toyota Etios VXD  2011         350000      90000   \n",
       "9  Ford Figo Diesel Celebration Edition  2013         200000     169000   \n",
       "\n",
       "     fuel seller_type transmission         owner     mileage   engine  \\\n",
       "0  Diesel  Individual       Manual   First Owner   23.4 kmpl  1248 CC   \n",
       "1  Diesel  Individual       Manual  Second Owner  21.14 kmpl  1498 CC   \n",
       "2  Petrol  Individual       Manual   Third Owner   17.7 kmpl  1497 CC   \n",
       "3  Diesel  Individual       Manual   First Owner   23.0 kmpl  1396 CC   \n",
       "4  Petrol  Individual       Manual   First Owner   16.1 kmpl  1298 CC   \n",
       "5  Petrol  Individual       Manual   First Owner  20.14 kmpl  1197 CC   \n",
       "6     LPG  Individual       Manual   First Owner  17.3 km/kg  1061 CC   \n",
       "7  Petrol  Individual       Manual  Second Owner   16.1 kmpl   796 CC   \n",
       "8  Diesel  Individual       Manual   First Owner  23.59 kmpl  1364 CC   \n",
       "9  Diesel  Individual       Manual   First Owner   20.0 kmpl  1399 CC   \n",
       "\n",
       "    max_power                    torque  seats  \n",
       "0      74 bhp            190Nm@ 2000rpm    5.0  \n",
       "1  103.52 bhp       250Nm@ 1500-2500rpm    5.0  \n",
       "2      78 bhp     12.7@ 2,700(kgm@ rpm)    5.0  \n",
       "3      90 bhp  22.4 kgm at 1750-2750rpm    5.0  \n",
       "4    88.2 bhp     11.5@ 4,500(kgm@ rpm)    5.0  \n",
       "5   81.86 bhp         113.75nm@ 4000rpm    5.0  \n",
       "6    57.5 bhp      7.8@ 4,500(kgm@ rpm)    5.0  \n",
       "7      37 bhp             59Nm@ 2500rpm    4.0  \n",
       "8    67.1 bhp       170Nm@ 1800-2400rpm    5.0  \n",
       "9    68.1 bhp            160Nm@ 2000rpm    5.0  "
      ]
     },
     "execution_count": 431,
     "metadata": {},
     "output_type": "execute_result"
    }
   ],
   "source": [
    "car_detail.head(10)"
   ]
  },
  {
   "cell_type": "code",
   "execution_count": 432,
   "metadata": {},
   "outputs": [
    {
     "data": {
      "text/plain": [
       "(8128, 13)"
      ]
     },
     "execution_count": 432,
     "metadata": {},
     "output_type": "execute_result"
    }
   ],
   "source": [
    "car_detail.shape"
   ]
  },
  {
   "cell_type": "markdown",
   "metadata": {},
   "source": [
    "All the files can be used for Rregression but as the last CSV has highest number of Datapoints I will be using that to train my model"
   ]
  },
  {
   "cell_type": "markdown",
   "metadata": {},
   "source": [
    "##### EDA"
   ]
  },
  {
   "cell_type": "code",
   "execution_count": 433,
   "metadata": {},
   "outputs": [
    {
     "name": "stdout",
     "output_type": "stream",
     "text": [
      "<class 'pandas.core.frame.DataFrame'>\n",
      "RangeIndex: 8128 entries, 0 to 8127\n",
      "Data columns (total 13 columns):\n",
      " #   Column         Non-Null Count  Dtype  \n",
      "---  ------         --------------  -----  \n",
      " 0   name           8128 non-null   object \n",
      " 1   year           8128 non-null   int64  \n",
      " 2   selling_price  8128 non-null   int64  \n",
      " 3   km_driven      8128 non-null   int64  \n",
      " 4   fuel           8128 non-null   object \n",
      " 5   seller_type    8128 non-null   object \n",
      " 6   transmission   8128 non-null   object \n",
      " 7   owner          8128 non-null   object \n",
      " 8   mileage        7907 non-null   object \n",
      " 9   engine         7907 non-null   object \n",
      " 10  max_power      7913 non-null   object \n",
      " 11  torque         7906 non-null   object \n",
      " 12  seats          7907 non-null   float64\n",
      "dtypes: float64(1), int64(3), object(9)\n",
      "memory usage: 825.6+ KB\n"
     ]
    }
   ],
   "source": [
    "car_detail.info()"
   ]
  },
  {
   "cell_type": "markdown",
   "metadata": {},
   "source": [
    "So there are null values present, these I will handle in Feature engineering step"
   ]
  },
  {
   "cell_type": "code",
   "execution_count": 434,
   "metadata": {},
   "outputs": [
    {
     "data": {
      "text/plain": [
       "name               0\n",
       "year               0\n",
       "selling_price      0\n",
       "km_driven          0\n",
       "fuel               0\n",
       "seller_type        0\n",
       "transmission       0\n",
       "owner              0\n",
       "mileage          221\n",
       "engine           221\n",
       "max_power        215\n",
       "torque           222\n",
       "seats            221\n",
       "dtype: int64"
      ]
     },
     "execution_count": 434,
     "metadata": {},
     "output_type": "execute_result"
    }
   ],
   "source": [
    "car_detail.isnull().sum()"
   ]
  },
  {
   "cell_type": "code",
   "execution_count": 435,
   "metadata": {},
   "outputs": [
    {
     "name": "stdout",
     "output_type": "stream",
     "text": [
      "['Skoda Rapid 1.5 TDI Ambition' 'Honda City 2017-2020 EXi'\n",
      " 'Hyundai i20 Sportz Diesel' 'Maruti Swift VXI BSIII'\n",
      " 'Hyundai Xcent 1.2 VTVT E Plus' 'Maruti Wagon R LXI DUO BSIII'\n",
      " 'Maruti 800 DX BSII' 'Toyota Etios VXD'\n",
      " 'Ford Figo Diesel Celebration Edition' 'Renault Duster 110PS Diesel RxL'\n",
      " 'Maruti Zen LX' 'Maruti Swift Dzire VDi' 'Maruti Swift 1.3 VXi'\n",
      " 'Maruti Wagon R LXI Minor' 'Mahindra KUV 100 mFALCON G80 K8 5str'\n",
      " 'Maruti Ertiga SHVS VDI' 'Hyundai i20 1.4 CRDi Asta' 'Maruti Alto LX'\n",
      " 'Hyundai i20 2015-2017 Asta 1.4 CRDi' 'Mahindra Verito 1.5 D4 BSIII'\n",
      " 'Honda WR-V i-DTEC VX' 'Maruti Swift Dzire ZDI' 'Maruti SX4 ZDI'\n",
      " 'Tata Tigor 2017-2020 XZ' 'Maruti Baleno Delta 1.2' 'Maruti Alto 800 LXI'\n",
      " 'Chevrolet Enjoy TCDi LTZ 7 Seater' 'Maruti Omni E MPI STD BS IV'\n",
      " 'Maruti Vitara Brezza LDi Option' 'Fiat Palio 1.2 ELX'\n",
      " 'Maruti Omni 8 Seater BSIV' 'Hyundai i20 1.2 Asta Dual Tone'\n",
      " 'Maruti Vitara Brezza LDi' 'Maruti Alto 800 CNG LXI Optional'\n",
      " 'Maruti Alto K10 VXI Airbag' 'Hyundai Verna VTVT 1.6 SX Option'\n",
      " 'Datsun GO D' 'Tata Safari DICOR 2.2 LX 4x2' 'Maruti 800 Std'\n",
      " 'Jeep Compass 1.4 Limited Plus BSIV' 'Honda City i VTEC VX'\n",
      " 'Honda City V MT' 'Maruti Swift Dzire VXi AT' 'Maruti Vitara Brezza VDi'\n",
      " 'Maruti Alto K10 VXI' 'Toyota Fortuner 4x4 MT'\n",
      " 'Toyota Innova 2.5 G (Diesel) 7 Seater BS IV'\n",
      " 'Mercedes-Benz B Class B180' 'Honda Amaze S Diesel'\n",
      " 'Mitsubishi Pajero Sport 4X4' 'Honda City i DTEC S' 'Maruti Ciaz Zeta'\n",
      " 'Honda Jazz VX Diesel' 'Toyota Innova Crysta 2.8 ZX AT BSIV'\n",
      " 'Toyota Innova 2.5 G (Diesel) 7 Seater' 'Audi A6 2.0 TDI Technology'\n",
      " 'Toyota Corolla Altis 1.8 VL CVT' 'Audi A6 2.0 TDI  Design Edition'\n",
      " 'Mercedes-Benz New C-Class 220 CDI AT' 'Tata Manza ELAN Quadrajet BS IV'\n",
      " 'Hyundai i10 Magna' 'Hyundai i20 Asta 1.4 CRDi'\n",
      " 'Ford Figo 1.2P Titanium MT' 'Volkswagen Ameo 1.5 TDI Highline 16 Alloy'\n",
      " 'Honda City i DTEC VX' 'Maruti Wagon R AMT VXI'\n",
      " 'Volkswagen Ameo 1.5 TDI Comfortline' 'Maruti Vitara Brezza ZDi Plus AMT'\n",
      " 'Maruti Swift VDI Deca' 'Maruti Swift Star VDI' 'Maruti Ertiga ZXI'\n",
      " 'Tata Indica DLS' 'Volkswagen Vento Diesel Highline'\n",
      " 'Toyota Innova 2.5 VX (Diesel) 8 Seater'\n",
      " 'Ford EcoSport 1.5 TDCi Titanium Plus BSIV' 'BMW X1 sDrive20i xLine'\n",
      " 'Maruti Celerio ZXI MT BSIV' 'Datsun GO A Petrol'\n",
      " 'Maruti Alto 800 VXI BSIV' 'Maruti Alto 800 LXI BSIV'\n",
      " 'Maruti Swift VDI BSIV W ABS' 'Hyundai i10 Era 1.1'\n",
      " 'Maruti Wagon R LXI LPG BSIV' 'Volkswagen Polo 1.2 MPI Comfortline'\n",
      " 'Hyundai i10 Magna 1.1L' 'Volkswagen Vento Petrol Highline'\n",
      " 'Maruti Zen Estilo LXI BSIII'\n",
      " 'Hyundai i20 Asta Optional with Sunroof 1.2' 'Maruti Swift Dzire LDI'\n",
      " 'Hyundai Xcent 1.2 Kappa SX Option AT' 'Maruti Alto LX BSIII'\n",
      " 'Hyundai i20 1.4 Asta Option' 'Maruti Wagon R VXI'\n",
      " 'Tata Manza Aura (ABS) Quadrajet' 'Maruti Swift VXI'\n",
      " 'Maruti Eeco 7 Seater Standard BSIV' 'Maruti Baleno Zeta 1.2'\n",
      " 'Mahindra Scorpio VLX AT AIRBAG BSIV'\n",
      " 'Ford Freestyle Titanium Petrol BSIV']\n",
      "2058\n"
     ]
    }
   ],
   "source": [
    "#let's check the model of the cars\n",
    "print(car_detail['name'].unique()[1:100])\n",
    "print(len(car_detail['name'].unique()))\n",
    "#(Word of caution) using OHE will create aditional 2058 columns"
   ]
  },
  {
   "cell_type": "code",
   "execution_count": 436,
   "metadata": {},
   "outputs": [
    {
     "name": "stdout",
     "output_type": "stream",
     "text": [
      "[2014 2006 2010 2007 2017 2001 2011 2013 2005 2009 2016 2012 2002 2015\n",
      " 2018 2003 2019 2008 2020 1999 2000 1983 2004 1996 1994 1995 1998 1997\n",
      " 1991]\n",
      "29\n"
     ]
    }
   ],
   "source": [
    "print(car_detail['year'].unique())\n",
    "print(len(car_detail['year'].unique()))\n",
    "#does not need any encoding"
   ]
  },
  {
   "cell_type": "code",
   "execution_count": 437,
   "metadata": {},
   "outputs": [
    {
     "name": "stdout",
     "output_type": "stream",
     "text": [
      "['190Nm@ 2000rpm' '250Nm@ 1500-2500rpm' '12.7@ 2,700(kgm@ rpm)'\n",
      " '22.4 kgm at 1750-2750rpm' '11.5@ 4,500(kgm@ rpm)' '113.75nm@ 4000rpm'\n",
      " '7.8@ 4,500(kgm@ rpm)' '59Nm@ 2500rpm' '170Nm@ 1800-2400rpm'\n",
      " '160Nm@ 2000rpm' '248Nm@ 2250rpm' '78Nm@ 4500rpm' nan '84Nm@ 3500rpm'\n",
      " '115Nm@ 3500-3600rpm' '200Nm@ 1750rpm' '62Nm@ 3000rpm'\n",
      " '219.7Nm@ 1500-2750rpm' '114Nm@ 3500rpm' '115Nm@ 4000rpm' '69Nm@ 3500rpm'\n",
      " '172.5Nm@ 1750rpm' '6.1kgm@ 3000rpm' '114.7Nm@ 4000rpm' '60Nm@ 3500rpm'\n",
      " '90Nm@ 3500rpm' '151Nm@ 4850rpm' '104Nm@ 4000rpm' '320Nm@ 1700-2700rpm'\n",
      " '250Nm@ 1750-2500rpm' '145Nm@ 4600rpm' '146Nm@ 4800rpm'\n",
      " '343Nm@ 1400-3400rpm' '200Nm@ 1400-3400rpm' '200Nm@ 1250-4000rpm'\n",
      " '400Nm@ 2000-2500rpm' '138Nm@ 4400rpm' '360Nm@ 1200-3400rpm'\n",
      " '200Nm@ 1200-3600rpm' '380Nm@ 1750-2500rpm' '173Nm@ 4000rpm'\n",
      " '400Nm@ 1750-3000rpm' '400Nm@ 1400-2800rpm' '200Nm@ 1750-3000rpm'\n",
      " '111.7Nm@ 4000rpm' '219.6Nm@ 1500-2750rpm' '112Nm@ 4000rpm'\n",
      " '250Nm@ 1500-3000rpm' '130Nm@ 4000rpm' '205Nm@ 1750-3250rpm'\n",
      " '280Nm@ 1350-4600rpm' '99.04Nm@ 4500rpm' '77Nm@ 3500rpm' '110Nm@ 3750rpm'\n",
      " '153Nm@ 3800rpm' '113.7Nm@ 4000rpm' '114Nm@ 4000rpm' '113Nm@ 4200rpm'\n",
      " '101Nm@ 3000rpm' '290Nm@ 1800-2800rpm' '120Nm@ 4250rpm'\n",
      " '250Nm@ 1500~4500rpm' '96 Nm at 3000 rpm' '360Nm@ 1750-2800rpm'\n",
      " '135Nm@ 2500rpm' '259.8Nm@ 1900-2750rpm' '200Nm@ 1900rpm'\n",
      " '259.9Nm@ 1900-2750rpm' '91Nm@ 4250rpm' '96.1Nm@ 3000rpm'\n",
      " '109Nm@ 4500rpm' '400nm@ 1750-3000rpm' '202Nm@ 3600-5200rpm'\n",
      " '430Nm@ 1750-2500rpm' '347Nm@ 4300rpm' '382nm@ 1750-2250rpm'\n",
      " '620Nm@ 1600-2400rpm' '400Nm@ 1750-2500rpm' '250@ 1250-5000rpm'\n",
      " '500Nm@ 1600-1800rpm' '250Nm@ 1600-3600rpm' '400Nm' '550Nm@ 1750-2750rpm'\n",
      " '490Nm@ 1600rpm' '250 Nm at 2750 rpm' '177.5Nm@ 4700rpm'\n",
      " '170Nm@ 1750-4000rpm' '300Nm@ 1200-4000rpm' '300Nm@ 1200-1400rpm'\n",
      " '260Nm@ 1500-2750rpm' '213Nm@ 4500rpm' '224Nm@ 4000rpm' '640Nm@ 1740rpm'\n",
      " '113Nm@ 4500rpm' '95Nm@ 3000-4300rpm' '13.1kgm@ 4600rpm'\n",
      " '205Nm@ 1800-2800rpm' '71Nm@ 3500rpm' '190Nm@ 1750-3000rpm'\n",
      " '146Nm at 4800 rpm' '14.9 KGM at 3000 RPM' '115Nm@ 3200rpm'\n",
      " '117nm@ 4000rpm' '320Nm@ 1500-3000rpm' '72Nm@ 4386rpm'\n",
      " '11.4 kgm at 4,000 rpm' '140Nm@ 1500-4000rpm' '134Nm@ 4000rpm'\n",
      " '150Nm@ 4500rpm' '340Nm@ 1800-3250rpm' '240Nm@ 1600-2800rpm'\n",
      " '330Nm@ 1600-2800rpm' '12.5@ 3,500(kgm@ rpm)' '110Nm@ 4800rpm'\n",
      " '111.8Nm@ 4000rpm' '11.8@ 3,200(kgm@ rpm)' '135.4Nm@ 2500rpm'\n",
      " '300Nm@ 1750-2500rpm' '190.25nm@ 1750-2250rpm' '140Nm@ 1800-3000rpm'\n",
      " '20.4@ 1400-3400(kgm@ rpm)' '247Nm@ 1800-2000rpm' '223Nm@ 1600-2200rpm'\n",
      " '180 Nm at 1440-1500rpm' '195Nm@ 1400-2200rpm' '154.9Nm@ 4200rpm'\n",
      " '114.73Nm@ 4000rpm' '160Nm@ 1500-2750rpm' '108Nm@ 4400rpm'\n",
      " '190.24nm@ 1750-2250rpm' '200Nm@ 2000-3500rpm' '420Nm@ 1400-2600rpm'\n",
      " '100Nm@ 2700rpm' '51Nm@ 4000rpm' '250Nm@ 1250-5300rpm' '132Nm@ 3000rpm'\n",
      " '350Nm@ 1500-2750rpm' '218Nm@ 4200rpm' '14.9@ 3,000(kgm@ rpm)'\n",
      " '24@ 1,900-2,750(kgm@ rpm)' '13.5@ 2,500(kgm@ rpm)' '85Nm@ 3000rpm'\n",
      " '74.5Nm@ 4000rpm' '160Nm@ 1750rpm' '180.4Nm@ 1750-2500rpm'\n",
      " '230Nm@ 1500-2500rpm' '113.75Nm@ 4000rpm' '219.66nm@ 1500-2750rpm'\n",
      " '245Nm@ 1750rpm' '360Nm@ 1400-3200rpm' '320Nm@ 2000rpm'\n",
      " '135 Nm at 2500  rpm ' '24 KGM at 1900-2750 RPM' '190Nm@ 1750-2250rpm'\n",
      " '204Nm@ 2000-2750rpm' '14.3@ 1,800-3,000(kgm@ rpm)' '250nm@ 1500-2750rpm'\n",
      " '125Nm@ 2000rpm' '172Nm@ 4300rpm' '150Nm@ 1750rpm' '102Nm@ 4000rpm'\n",
      " '85Nm@ 2500rpm' '8.5@ 2,500(kgm@ rpm)' '180Nm@ 1440-1500rpm'\n",
      " '106.5Nm@ 4400rpm' '108.5Nm@ 5000rpm' '350Nm@ 1750-2500rpm'\n",
      " '144.15nm@ 4500rpm' '104Nm@ 4400rpm' '99Nm@ 4500rpm' '200Nm@ 2000rpm'\n",
      " '280Nm@ 1800-2800rpm' '142.5Nm@ 1750rpm' '140Nm@ 4400rpm'\n",
      " '115@ 2,500(kgm@ rpm)' '196Nm@ 5000rpm' '260 Nm at 1800-2200 rpm'\n",
      " '9.8@ 3,000(kgm@ rpm)' '209Nm@ 2000rpm' '135 Nm at 2500 rpm'\n",
      " '140Nm@ 4200rpm' '220Nm at 1400-2600 rpm' '48Nm@ 3000rpm'\n",
      " '171Nm@ 1800rpm' '277.5Nm@ 1700-2200rpm' '215Nm@ 3600rpm'\n",
      " '219.6Nm@ 1750-2750rpm' '195Nm@ 1440-2200rpm' '13@ 2,500(kgm@ rpm)'\n",
      " '180Nm@ 2000rpm' '200Nm@ 1400-2200rpm' '380Nm(38.7kgm)@ 2500rpm'\n",
      " '110Nm@ 4400rpm' '72Nm@ 4388rpm' '263.7Nm@ 2500rpm' '320Nm@ 1600-2800rpm'\n",
      " '25.5@ 1,500-3,000(kgm@ rpm)' '16.3@ 2,000(kgm@ rpm)'\n",
      " '190 Nm at 1750 rpm ' '94.14Nm@ 3500rpm' '12@ 3,500(kgm@ rpm)'\n",
      " '113Nm@ 5000rpm' '280Nm@ 2400-2800rpm' '96Nm@ 3500rpm'\n",
      " '16@ 2,000(kgm@ rpm)' '320Nm@ 1750-3000rpm' '114.73nm@ 4000rpm'\n",
      " '320Nm@ 1750-2500rpm' '138nm@ 4400rpm' '190Nm@ 1750rpm' '789Nm@ 2250rpm'\n",
      " '259.87Nm@ 1900-2750rpm' '205Nm@ 1750rpm' '436.39Nm@ 1800-2500rpm'\n",
      " '182.5Nm@ 1500-1800rpm' '90.3Nm@ 4200rpm' '12.5@ 2,500(kgm@ rpm)'\n",
      " '215Nm@ 1750-3000rpm' '215Nm@ 1750-3000' '305Nm@ 2000rpm'\n",
      " '540Nm@ 2000rpm' '327Nm@ 2600rpm' '300Nm@ 1600-3000rpm'\n",
      " '620Nm@ 2000-2500rpm' '450Nm@ 1600-2400rpm' '19@ 1,800(kgm@ rpm)'\n",
      " '9.2@ 4,200(kgm@ rpm)' '145@ 4,100(kgm@ rpm)' '51Nm@ 4000+/-500rpm'\n",
      " '110Nm@ 3000rpm' '148Nm@ 3500rpm' '116Nm@ 4750rpm'\n",
      " '48@ 3,000+/-500(NM@ rpm)' '148Nm@ 4000rpm' '222Nm@ 4300rpm'\n",
      " '135.3Nm@ 5000rpm' '98Nm@ 1600-3000rpm' '170Nm@ 1400-4500rpm'\n",
      " '343Nm@ 1400-2800rpm' '402Nm@ 1600-3000rpm' '113Nm@ 3300rpm'\n",
      " '99.07Nm@ 4500rpm' '210nm@ 1600-2200rpm' '190 Nm at 1750  rpm '\n",
      " '32.1kgm@ 2000rpm' '224nm@ 1500-2750rpm' '400nm@ 1750-2500rpm'\n",
      " '215Nm@ 1750-2500rpm' '25@ 1,800-2,800(kgm@ rpm)' '197Nm@ 1750rpm'\n",
      " '136.3Nm@ 4200rpm' '470Nm@ 1750-2500rpm' '11@ 3,000(kgm@ rpm)'\n",
      " '142Nm@ 4000rpm' '145Nm@ 4100rpm' '320Nm@ 1500-2800rpm'\n",
      " '123Nm@ 1000-2500rpm' '218Nm@ 1400-2600rpm' '510@ 1600-2400'\n",
      " '220Nm@ 1500-2750rpm' '380Nm@ 2000rpm' '104Nm@ 3100rpm' '292Nm@ 2000rpm'\n",
      " '20@ 3,750(kgm@ rpm)' '46.5@ 1,400-2,800(kgm@ rpm)' '380Nm@ 2500rpm'\n",
      " '15@ 3,800(kgm@ rpm)' '136Nm@ 4250rpm' '228Nm@ 4400rpm' '149Nm@ 4500rpm'\n",
      " '187Nm@ 2500rpm' '146Nm@ 3400rpm' '8.6@ 3,500(kgm@ rpm)'\n",
      " '219.7Nm@ 1750-2750rpm' '190Nm@ 2000-3000' '450Nm@ 2000rpm'\n",
      " '300Nm@ 2000rpm' '230Nm@ 1800-2000rpm' '42@ 2,000(kgm@ rpm)'\n",
      " '110Nm@ 3000-4300rpm' '110(11.2)@ 4800' '330Nm@ 1800rpm'\n",
      " '225Nm@ 1500-2500rpm' '380Nm@ 1750-2750rpm' '28.3@ 1,700-2,200(kgm@ rpm)'\n",
      " '259.88Nm@ 1900-2750rpm' '580Nm@ 1400-3250rpm' '400 Nm /2000 rpm'\n",
      " '127Nm@ 3500rpm' '300Nm@ 1500-2500rpm' '132.3Nm@ 4000rpm'\n",
      " '113nm@ 4400rpm' '151NM@ 4850rpm' '153Nm@ 3750-3800rpm'\n",
      " '10.7@ 2,500(kgm@ rpm)' '124.6Nm@ 3500rpm' '78Nm@ 3500rpm'\n",
      " '219.9Nm@ 1750-2750rpm' '420.7Nm@ 1800-2500rpm' '130Nm@ 3000rpm'\n",
      " '424Nm@ 2000rpm' '130@ 2500(kgm@ rpm)' '99.8Nm@ 2700rpm'\n",
      " '113Nm@ 4,500rpm' '11.2@ 4,400(kgm@ rpm)' '240Nm@ 1850rpm'\n",
      " '16.1@ 4,200(kgm@ rpm)' '320Nm@ 1750-2700rpm' '115Nm@ 4500rpm'\n",
      " '245Nm@ 4000rpm' '321Nm@ 1600-2400rpm' '619Nm@ 1600-2400rpm'\n",
      " '380Nm@ 1750-3000rpm' '560Nm@ 1500rpm' '230Nm@ 1500-2250rpm'\n",
      " '90Nm@ 2650rpm' '260Nm@ 1800-2200rpm' '600Nm@ 2000rpm'\n",
      " '259.87nm@ 1500-3000rpm' '16.6@ 4,500(kgm@ rpm)' '219.66NM@ 1500-2750rpm'\n",
      " '12.5@ 3,000(kgm@ rpm)' '620Nm@ 1500-2500rpm' '250Nm@ 1500-4500rpm'\n",
      " '14.9@ 3,400(kgm@ rpm)' '25.5@ 1,900(kgm@ rpm)' '33.7@ 1,800(kgm@ rpm)'\n",
      " '285Nm@ 2400-4000rpm' '10.7@ 2,600(kgm@ rpm)' '250Nm@ 1000-2000rpm'\n",
      " '240Nm@ 1750rpm' '226Nm@ 4400rpm' '510Nm@ 1600-2800rpm'\n",
      " '259.87NM@ 1500-3000rpm' '155 Nm at 1600-2800 rpm' '240Nm@ 2000rpm'\n",
      " '103Nm@ 4500rpm' '13.5@ 4,800(kgm@ rpm)' '400Nm@ 1750-2750rpm'\n",
      " '175Nm@ 1500-4100rpm' '72.9Nm@ 2250rpm' '135.4Nm@ 2500' '245Nm@ 5000rpm'\n",
      " '57Nm@ 2500rpm' '96Nm@ 2500rpm' '215nm@ 1750-2500rpm'\n",
      " '10.4@ 3,200(kgm@ rpm)' '128Nm@ 3100rpm' '102Nm@ 2600rpm'\n",
      " '131Nm@ 4400rpm' '11.4@ 4,000(kgm@ rpm)' '250Nm@ 4250rpm'\n",
      " '343Nm@ 1600-2800rpm' '185Nm@ 1750-2750rpm' '12@ 2500(kgm@ rpm)'\n",
      " '12.4@ 2,600(kgm@ rpm)' '170Nm@ 4200rpm' '176Nm@ 1500rpm'\n",
      " '380NM@ 1800-2800rpm' '250Nm@ 1600-2000rpm' '24.5@ 3,500-4,500(kgm@ rpm)'\n",
      " '22.9@ 1,950-4,700(kgm@ rpm)' '113Nm@ 4400rpm' '121Nm@ 2800rpm'\n",
      " '210 / 1900' '250Nm@ 1250-5000rpm' '400Nm@ 175-2750rpm'\n",
      " '350Nm@ 1500-3500rpm' '175nm@ 1750-4000rpm' '115@ 2500(kgm@ rpm)'\n",
      " '110Nm@ 4500rpm' '190Nm@ 2000-3000rpm' '106Nm@ 2200rpm'\n",
      " '21.4@ 1,750-4,600(kgm@ rpm)' '96Nm@ 3000rpm' '23.6@ 4,250(kgm@ rpm)'\n",
      " '11.3kgm@ 4700rpm' '450Nm@ 1750-2500rpm' '35.7@ 1,750-3,000(kgm@ rpm)'\n",
      " '6@ 2,500(kgm@ rpm)' '13.9 kgm at 4200 rpm' '320Nm@ 1400-4100rpm'\n",
      " '150Nm@ 1700-4500rpm' '113.8Nm@ 4000rpm' '110@ 3,000(kgm@ rpm)'\n",
      " '151Nm@ 2400rpm' '62Nm@ 2500rpm' '18@ 1,600-2,200(kgm@ rpm)'\n",
      " '83Nm@ 3000rpm' '124.5Nm@ 3500rpm' '20@ 4,700(kgm@ rpm)'\n",
      " '300Nm@ 1600-4000rpm' '171.6Nm@ 1500-4000rpm' '21.4@ 1,900(kgm@ rpm)'\n",
      " '190@ 21,800(kgm@ rpm)' '5.7@ 2,500(kgm@ rpm)' '88.4Nm@ 4200rpm'\n",
      " '250 Nm at 1,500-3,000 rpm' '340nm@ 1750-3000rpm'\n",
      " '36.6@ 1,750-2,500(kgm@ rpm)' '12.5kgm@ 3500rpm' '6.1@ 3,000(kgm@ rpm)'\n",
      " '110Nm@ 4000rpm' '350nm@ 1800-2600rpm' '175nm@ 1500-4100rpm'\n",
      " '4.8kgm@ 3000rpm' '355Nm@ 4500rpm' '51@ 1,750-3,000(kgm@ rpm)'\n",
      " '119Nm@ 4250rpm' '410Nm@ 1600-2800rpm' '174Nm@ 4300rpm' '99.1Nm@ 4500rpm'\n",
      " '385Nm@ 1600-2500rpm' '180 Nm at 2000rpm' '190 Nm at 1750 rpm'\n",
      " '53@ 2,000-2,750(kgm@ rpm)' '360Nm@ 1400-2600rpm' '420Nm@ 2000rpm'\n",
      " '124Nm@ 3500rpm' '17.5@ 4,300(kgm@ rpm)' '360Nm@ 2000rpm'\n",
      " '145Nm@ 3750rpm' '85Nm@ 3500rpm' '190Nm@ 4200rpm' '190 Nm at 2000rpm'\n",
      " '13.5@ 2500(kgm@ rpm)' '250nm@ 1500-3000rpm' '159.8Nm@ 1500-2750rpm'\n",
      " '500Nm@ 2000rpm' '333Nm@ 1600-3200rpm' '400nm@ 2800rpm'\n",
      " '33@ 2,000-2,680(kgm@ rpm)' '10.2@ 2,600(kgm@ rpm)' '480Nm'\n",
      " '190Nm@ 4300rpm' '320Nm@ 1800-2800rpm' '380Nm@ 1750rpm'\n",
      " '250.06nm@ 1500-2750rpm' '90nm@ 3500rpm' '190Nm@ 3700rpm'\n",
      " '436.4Nm@ 1800-2500rpm' '96  Nm at 3000  rpm ']\n",
      "442\n"
     ]
    }
   ],
   "source": [
    "print(car_detail['torque'].unique())\n",
    "print(len(car_detail['torque'].unique()))\n"
   ]
  },
  {
   "cell_type": "markdown",
   "metadata": {},
   "source": [
    "**This is a problemetic feature , there are different formats and units used, Also the horse power and engine size has some what linear relationship with torque, so it can be dropped**"
   ]
  },
  {
   "cell_type": "code",
   "execution_count": 438,
   "metadata": {},
   "outputs": [
    {
     "name": "stdout",
     "output_type": "stream",
     "text": [
      "[ 5.  4. nan  7.  8.  6.  9. 10. 14.  2.]\n",
      "10\n"
     ]
    }
   ],
   "source": [
    "print(car_detail['seats'].unique())\n",
    "print(len(car_detail['seats'].unique()))\n",
    "# missing values are in form of np.nan"
   ]
  },
  {
   "cell_type": "code",
   "execution_count": 439,
   "metadata": {},
   "outputs": [
    {
     "name": "stdout",
     "output_type": "stream",
     "text": [
      "['First Owner' 'Second Owner' 'Third Owner' 'Fourth & Above Owner'\n",
      " 'Test Drive Car']\n",
      "5\n"
     ]
    }
   ],
   "source": [
    "print(car_detail['owner'].unique())\n",
    "print(len(car_detail['owner'].unique()))\n",
    "# missing values are in form of np.nan"
   ]
  },
  {
   "cell_type": "markdown",
   "metadata": {},
   "source": [
    "**Results of EDA:**\n",
    "- Feature_mv__Action\n",
    "- name              0 : OHE\n",
    "- year              0 : None\n",
    "- selling_price     0 : Target\n",
    "- km_driven         0 : None\n",
    "- fuel              0 : OHE\n",
    "- seller_type       0 : OHE\n",
    "- transmission      0 : OHE\n",
    "- owner             0 : ORDINAL ENCODING\n",
    "- mileage          221: Impute\n",
    "- engine           221: Impute\n",
    "- max_power        215: Impute\n",
    "- torque           222: Drop\n",
    "- seats            221: Impute"
   ]
  },
  {
   "cell_type": "markdown",
   "metadata": {},
   "source": [
    "##### Feature Engineeering"
   ]
  },
  {
   "cell_type": "markdown",
   "metadata": {},
   "source": [
    "First I will handle the units associated with columns"
   ]
  },
  {
   "cell_type": "code",
   "execution_count": 440,
   "metadata": {},
   "outputs": [],
   "source": [
    "car_detail['mileage'] = car_detail['mileage'].str.replace('kmpl','')\n",
    "car_detail['mileage'] = car_detail['mileage'].str.replace('km/kg','')\n",
    "car_detail['mileage'] = car_detail['mileage'].astype('float64')\n",
    "\n",
    "car_detail['engine'] = car_detail['engine'].str.replace('CC','')\n",
    "car_detail['engine'] = car_detail['engine'].astype('float64')\n",
    "\n",
    "#car_detail['max_power'] = car_detail['max_power'].str.replace(' bhp','')\n",
    "#car_detail['max_power'] = car_detail['max_power'].str.replace(' hp','')\n",
    "#car_detail['max_power'] = car_detail['max_power'].str.replace(' PS','')\n",
    "#car_detail['max_power'] = car_detail['max_power'].astype('float64')\n",
    "\n",
    "car_detail['max_power'] = car_detail['max_power'].str.extract(r'(\\d+.\\d+)').astype('float')\n",
    "car_detail['max_power'] = car_detail['max_power'].astype('float64')"
   ]
  },
  {
   "cell_type": "code",
   "execution_count": 441,
   "metadata": {},
   "outputs": [
    {
     "data": {
      "text/html": [
       "<div>\n",
       "<style scoped>\n",
       "    .dataframe tbody tr th:only-of-type {\n",
       "        vertical-align: middle;\n",
       "    }\n",
       "\n",
       "    .dataframe tbody tr th {\n",
       "        vertical-align: top;\n",
       "    }\n",
       "\n",
       "    .dataframe thead th {\n",
       "        text-align: right;\n",
       "    }\n",
       "</style>\n",
       "<table border=\"1\" class=\"dataframe\">\n",
       "  <thead>\n",
       "    <tr style=\"text-align: right;\">\n",
       "      <th></th>\n",
       "      <th>year</th>\n",
       "      <th>selling_price</th>\n",
       "      <th>km_driven</th>\n",
       "      <th>mileage</th>\n",
       "      <th>engine</th>\n",
       "      <th>max_power</th>\n",
       "      <th>seats</th>\n",
       "    </tr>\n",
       "  </thead>\n",
       "  <tbody>\n",
       "    <tr>\n",
       "      <th>count</th>\n",
       "      <td>8128.000000</td>\n",
       "      <td>8.128000e+03</td>\n",
       "      <td>8.128000e+03</td>\n",
       "      <td>7907.000000</td>\n",
       "      <td>7907.000000</td>\n",
       "      <td>5994.000000</td>\n",
       "      <td>7907.000000</td>\n",
       "    </tr>\n",
       "    <tr>\n",
       "      <th>mean</th>\n",
       "      <td>2013.804011</td>\n",
       "      <td>6.382718e+05</td>\n",
       "      <td>6.981951e+04</td>\n",
       "      <td>19.418783</td>\n",
       "      <td>1458.625016</td>\n",
       "      <td>98.001464</td>\n",
       "      <td>5.416719</td>\n",
       "    </tr>\n",
       "    <tr>\n",
       "      <th>std</th>\n",
       "      <td>4.044249</td>\n",
       "      <td>8.062534e+05</td>\n",
       "      <td>5.655055e+04</td>\n",
       "      <td>4.037145</td>\n",
       "      <td>503.916303</td>\n",
       "      <td>38.308191</td>\n",
       "      <td>0.959588</td>\n",
       "    </tr>\n",
       "    <tr>\n",
       "      <th>min</th>\n",
       "      <td>1983.000000</td>\n",
       "      <td>2.999900e+04</td>\n",
       "      <td>1.000000e+00</td>\n",
       "      <td>0.000000</td>\n",
       "      <td>624.000000</td>\n",
       "      <td>32.800000</td>\n",
       "      <td>2.000000</td>\n",
       "    </tr>\n",
       "    <tr>\n",
       "      <th>25%</th>\n",
       "      <td>2011.000000</td>\n",
       "      <td>2.549990e+05</td>\n",
       "      <td>3.500000e+04</td>\n",
       "      <td>16.780000</td>\n",
       "      <td>1197.000000</td>\n",
       "      <td>73.900000</td>\n",
       "      <td>5.000000</td>\n",
       "    </tr>\n",
       "    <tr>\n",
       "      <th>50%</th>\n",
       "      <td>2015.000000</td>\n",
       "      <td>4.500000e+05</td>\n",
       "      <td>6.000000e+04</td>\n",
       "      <td>19.300000</td>\n",
       "      <td>1248.000000</td>\n",
       "      <td>88.700000</td>\n",
       "      <td>5.000000</td>\n",
       "    </tr>\n",
       "    <tr>\n",
       "      <th>75%</th>\n",
       "      <td>2017.000000</td>\n",
       "      <td>6.750000e+05</td>\n",
       "      <td>9.800000e+04</td>\n",
       "      <td>22.320000</td>\n",
       "      <td>1582.000000</td>\n",
       "      <td>115.000000</td>\n",
       "      <td>5.000000</td>\n",
       "    </tr>\n",
       "    <tr>\n",
       "      <th>max</th>\n",
       "      <td>2020.000000</td>\n",
       "      <td>1.000000e+07</td>\n",
       "      <td>2.360457e+06</td>\n",
       "      <td>42.000000</td>\n",
       "      <td>3604.000000</td>\n",
       "      <td>400.000000</td>\n",
       "      <td>14.000000</td>\n",
       "    </tr>\n",
       "  </tbody>\n",
       "</table>\n",
       "</div>"
      ],
      "text/plain": [
       "              year  selling_price     km_driven      mileage       engine  \\\n",
       "count  8128.000000   8.128000e+03  8.128000e+03  7907.000000  7907.000000   \n",
       "mean   2013.804011   6.382718e+05  6.981951e+04    19.418783  1458.625016   \n",
       "std       4.044249   8.062534e+05  5.655055e+04     4.037145   503.916303   \n",
       "min    1983.000000   2.999900e+04  1.000000e+00     0.000000   624.000000   \n",
       "25%    2011.000000   2.549990e+05  3.500000e+04    16.780000  1197.000000   \n",
       "50%    2015.000000   4.500000e+05  6.000000e+04    19.300000  1248.000000   \n",
       "75%    2017.000000   6.750000e+05  9.800000e+04    22.320000  1582.000000   \n",
       "max    2020.000000   1.000000e+07  2.360457e+06    42.000000  3604.000000   \n",
       "\n",
       "         max_power        seats  \n",
       "count  5994.000000  7907.000000  \n",
       "mean     98.001464     5.416719  \n",
       "std      38.308191     0.959588  \n",
       "min      32.800000     2.000000  \n",
       "25%      73.900000     5.000000  \n",
       "50%      88.700000     5.000000  \n",
       "75%     115.000000     5.000000  \n",
       "max     400.000000    14.000000  "
      ]
     },
     "execution_count": 441,
     "metadata": {},
     "output_type": "execute_result"
    }
   ],
   "source": [
    "car_detail.describe()"
   ]
  },
  {
   "cell_type": "code",
   "execution_count": 442,
   "metadata": {},
   "outputs": [
    {
     "data": {
      "text/html": [
       "<div>\n",
       "<style scoped>\n",
       "    .dataframe tbody tr th:only-of-type {\n",
       "        vertical-align: middle;\n",
       "    }\n",
       "\n",
       "    .dataframe tbody tr th {\n",
       "        vertical-align: top;\n",
       "    }\n",
       "\n",
       "    .dataframe thead th {\n",
       "        text-align: right;\n",
       "    }\n",
       "</style>\n",
       "<table border=\"1\" class=\"dataframe\">\n",
       "  <thead>\n",
       "    <tr style=\"text-align: right;\">\n",
       "      <th></th>\n",
       "      <th>name</th>\n",
       "      <th>year</th>\n",
       "      <th>km_driven</th>\n",
       "      <th>fuel</th>\n",
       "      <th>seller_type</th>\n",
       "      <th>transmission</th>\n",
       "      <th>owner</th>\n",
       "      <th>mileage</th>\n",
       "      <th>engine</th>\n",
       "      <th>max_power</th>\n",
       "      <th>seats</th>\n",
       "    </tr>\n",
       "  </thead>\n",
       "  <tbody>\n",
       "    <tr>\n",
       "      <th>0</th>\n",
       "      <td>Maruti Swift Dzire VDI</td>\n",
       "      <td>2014</td>\n",
       "      <td>145500</td>\n",
       "      <td>Diesel</td>\n",
       "      <td>Individual</td>\n",
       "      <td>Manual</td>\n",
       "      <td>First Owner</td>\n",
       "      <td>23.40</td>\n",
       "      <td>1248.0</td>\n",
       "      <td>NaN</td>\n",
       "      <td>5.0</td>\n",
       "    </tr>\n",
       "    <tr>\n",
       "      <th>1</th>\n",
       "      <td>Skoda Rapid 1.5 TDI Ambition</td>\n",
       "      <td>2014</td>\n",
       "      <td>120000</td>\n",
       "      <td>Diesel</td>\n",
       "      <td>Individual</td>\n",
       "      <td>Manual</td>\n",
       "      <td>Second Owner</td>\n",
       "      <td>21.14</td>\n",
       "      <td>1498.0</td>\n",
       "      <td>103.52</td>\n",
       "      <td>5.0</td>\n",
       "    </tr>\n",
       "    <tr>\n",
       "      <th>2</th>\n",
       "      <td>Honda City 2017-2020 EXi</td>\n",
       "      <td>2006</td>\n",
       "      <td>140000</td>\n",
       "      <td>Petrol</td>\n",
       "      <td>Individual</td>\n",
       "      <td>Manual</td>\n",
       "      <td>Third Owner</td>\n",
       "      <td>17.70</td>\n",
       "      <td>1497.0</td>\n",
       "      <td>NaN</td>\n",
       "      <td>5.0</td>\n",
       "    </tr>\n",
       "    <tr>\n",
       "      <th>3</th>\n",
       "      <td>Hyundai i20 Sportz Diesel</td>\n",
       "      <td>2010</td>\n",
       "      <td>127000</td>\n",
       "      <td>Diesel</td>\n",
       "      <td>Individual</td>\n",
       "      <td>Manual</td>\n",
       "      <td>First Owner</td>\n",
       "      <td>23.00</td>\n",
       "      <td>1396.0</td>\n",
       "      <td>NaN</td>\n",
       "      <td>5.0</td>\n",
       "    </tr>\n",
       "    <tr>\n",
       "      <th>4</th>\n",
       "      <td>Maruti Swift VXI BSIII</td>\n",
       "      <td>2007</td>\n",
       "      <td>120000</td>\n",
       "      <td>Petrol</td>\n",
       "      <td>Individual</td>\n",
       "      <td>Manual</td>\n",
       "      <td>First Owner</td>\n",
       "      <td>16.10</td>\n",
       "      <td>1298.0</td>\n",
       "      <td>88.20</td>\n",
       "      <td>5.0</td>\n",
       "    </tr>\n",
       "    <tr>\n",
       "      <th>...</th>\n",
       "      <td>...</td>\n",
       "      <td>...</td>\n",
       "      <td>...</td>\n",
       "      <td>...</td>\n",
       "      <td>...</td>\n",
       "      <td>...</td>\n",
       "      <td>...</td>\n",
       "      <td>...</td>\n",
       "      <td>...</td>\n",
       "      <td>...</td>\n",
       "      <td>...</td>\n",
       "    </tr>\n",
       "    <tr>\n",
       "      <th>8123</th>\n",
       "      <td>Hyundai i20 Magna</td>\n",
       "      <td>2013</td>\n",
       "      <td>110000</td>\n",
       "      <td>Petrol</td>\n",
       "      <td>Individual</td>\n",
       "      <td>Manual</td>\n",
       "      <td>First Owner</td>\n",
       "      <td>18.50</td>\n",
       "      <td>1197.0</td>\n",
       "      <td>82.85</td>\n",
       "      <td>5.0</td>\n",
       "    </tr>\n",
       "    <tr>\n",
       "      <th>8124</th>\n",
       "      <td>Hyundai Verna CRDi SX</td>\n",
       "      <td>2007</td>\n",
       "      <td>119000</td>\n",
       "      <td>Diesel</td>\n",
       "      <td>Individual</td>\n",
       "      <td>Manual</td>\n",
       "      <td>Fourth &amp; Above Owner</td>\n",
       "      <td>16.80</td>\n",
       "      <td>1493.0</td>\n",
       "      <td>110.00</td>\n",
       "      <td>5.0</td>\n",
       "    </tr>\n",
       "    <tr>\n",
       "      <th>8125</th>\n",
       "      <td>Maruti Swift Dzire ZDi</td>\n",
       "      <td>2009</td>\n",
       "      <td>120000</td>\n",
       "      <td>Diesel</td>\n",
       "      <td>Individual</td>\n",
       "      <td>Manual</td>\n",
       "      <td>First Owner</td>\n",
       "      <td>19.30</td>\n",
       "      <td>1248.0</td>\n",
       "      <td>73.90</td>\n",
       "      <td>5.0</td>\n",
       "    </tr>\n",
       "    <tr>\n",
       "      <th>8126</th>\n",
       "      <td>Tata Indigo CR4</td>\n",
       "      <td>2013</td>\n",
       "      <td>25000</td>\n",
       "      <td>Diesel</td>\n",
       "      <td>Individual</td>\n",
       "      <td>Manual</td>\n",
       "      <td>First Owner</td>\n",
       "      <td>23.57</td>\n",
       "      <td>1396.0</td>\n",
       "      <td>NaN</td>\n",
       "      <td>5.0</td>\n",
       "    </tr>\n",
       "    <tr>\n",
       "      <th>8127</th>\n",
       "      <td>Tata Indigo CR4</td>\n",
       "      <td>2013</td>\n",
       "      <td>25000</td>\n",
       "      <td>Diesel</td>\n",
       "      <td>Individual</td>\n",
       "      <td>Manual</td>\n",
       "      <td>First Owner</td>\n",
       "      <td>23.57</td>\n",
       "      <td>1396.0</td>\n",
       "      <td>NaN</td>\n",
       "      <td>5.0</td>\n",
       "    </tr>\n",
       "  </tbody>\n",
       "</table>\n",
       "<p>8128 rows × 11 columns</p>\n",
       "</div>"
      ],
      "text/plain": [
       "                              name  year  km_driven    fuel seller_type  \\\n",
       "0           Maruti Swift Dzire VDI  2014     145500  Diesel  Individual   \n",
       "1     Skoda Rapid 1.5 TDI Ambition  2014     120000  Diesel  Individual   \n",
       "2         Honda City 2017-2020 EXi  2006     140000  Petrol  Individual   \n",
       "3        Hyundai i20 Sportz Diesel  2010     127000  Diesel  Individual   \n",
       "4           Maruti Swift VXI BSIII  2007     120000  Petrol  Individual   \n",
       "...                            ...   ...        ...     ...         ...   \n",
       "8123             Hyundai i20 Magna  2013     110000  Petrol  Individual   \n",
       "8124         Hyundai Verna CRDi SX  2007     119000  Diesel  Individual   \n",
       "8125        Maruti Swift Dzire ZDi  2009     120000  Diesel  Individual   \n",
       "8126               Tata Indigo CR4  2013      25000  Diesel  Individual   \n",
       "8127               Tata Indigo CR4  2013      25000  Diesel  Individual   \n",
       "\n",
       "     transmission                 owner  mileage  engine  max_power  seats  \n",
       "0          Manual           First Owner    23.40  1248.0        NaN    5.0  \n",
       "1          Manual          Second Owner    21.14  1498.0     103.52    5.0  \n",
       "2          Manual           Third Owner    17.70  1497.0        NaN    5.0  \n",
       "3          Manual           First Owner    23.00  1396.0        NaN    5.0  \n",
       "4          Manual           First Owner    16.10  1298.0      88.20    5.0  \n",
       "...           ...                   ...      ...     ...        ...    ...  \n",
       "8123       Manual           First Owner    18.50  1197.0      82.85    5.0  \n",
       "8124       Manual  Fourth & Above Owner    16.80  1493.0     110.00    5.0  \n",
       "8125       Manual           First Owner    19.30  1248.0      73.90    5.0  \n",
       "8126       Manual           First Owner    23.57  1396.0        NaN    5.0  \n",
       "8127       Manual           First Owner    23.57  1396.0        NaN    5.0  \n",
       "\n",
       "[8128 rows x 11 columns]"
      ]
     },
     "execution_count": 442,
     "metadata": {},
     "output_type": "execute_result"
    }
   ],
   "source": [
    "\n",
    "X,y = car_detail,car_detail['selling_price']\n",
    "X.drop(columns=['selling_price','torque'])"
   ]
  },
  {
   "cell_type": "code",
   "execution_count": 443,
   "metadata": {},
   "outputs": [
    {
     "data": {
      "text/plain": [
       "0    450000\n",
       "1    370000\n",
       "2    158000\n",
       "3    225000\n",
       "4    130000\n",
       "Name: selling_price, dtype: int64"
      ]
     },
     "execution_count": 443,
     "metadata": {},
     "output_type": "execute_result"
    }
   ],
   "source": [
    "y.head()"
   ]
  },
  {
   "cell_type": "code",
   "execution_count": 444,
   "metadata": {},
   "outputs": [],
   "source": [
    "from sklearn.model_selection import train_test_split\n",
    "X_train,X_test,y_train,y_test = train_test_split(X,y,test_size=0.2)"
   ]
  },
  {
   "cell_type": "markdown",
   "metadata": {},
   "source": [
    "Here I will dcreate the Column transformer object to handle the missing and catagorical values"
   ]
  },
  {
   "cell_type": "code",
   "execution_count": 445,
   "metadata": {},
   "outputs": [
    {
     "data": {
      "text/plain": [
       "array(['First Owner', 'Second Owner', 'Fourth & Above Owner',\n",
       "       'Third Owner', 'Test Drive Car'], dtype=object)"
      ]
     },
     "execution_count": 445,
     "metadata": {},
     "output_type": "execute_result"
    }
   ],
   "source": [
    "X_train['owner'].unique()"
   ]
  },
  {
   "cell_type": "code",
   "execution_count": 446,
   "metadata": {},
   "outputs": [],
   "source": [
    "from sklearn.compose import ColumnTransformer\n",
    "from sklearn.impute import KNNImputer\n",
    "from sklearn.preprocessing import OneHotEncoder\n",
    "from sklearn.preprocessing import OrdinalEncoder\n",
    "ct = ColumnTransformer(transformers= [\n",
    "('si',KNNImputer(),['mileage','engine','max_power','seats']),\n",
    "('oe',OrdinalEncoder(categories='auto'),['owner']),\n",
    "('ohe',OneHotEncoder(sparse=False,drop='first',handle_unknown='ignore'),['name','seller_type','transmission','fuel'])\n",
    "])"
   ]
  },
  {
   "cell_type": "code",
   "execution_count": 447,
   "metadata": {},
   "outputs": [
    {
     "data": {
      "text/plain": [
       "(6502, 1894)"
      ]
     },
     "execution_count": 447,
     "metadata": {},
     "output_type": "execute_result"
    }
   ],
   "source": [
    "X_letc = ct.fit_transform(X_train)\n",
    "X_letc.shape"
   ]
  },
  {
   "cell_type": "code",
   "execution_count": 448,
   "metadata": {},
   "outputs": [
    {
     "name": "stderr",
     "output_type": "stream",
     "text": [
      "c:\\Users\\dsudi\\AppData\\Local\\Programs\\Python\\Python310\\lib\\site-packages\\sklearn\\preprocessing\\_encoders.py:188: UserWarning: Found unknown categories in columns [0] during transform. These unknown categories will be encoded as all zeros\n",
      "  warnings.warn(\n"
     ]
    }
   ],
   "source": [
    "from sklearn.linear_model import LinearRegression\n",
    "from sklearn.preprocessing import StandardScaler\n",
    "from sklearn.pipeline import Pipeline\n",
    "lr = LinearRegression()\n",
    "pipe = Pipeline([('ct',ct),('scaler',StandardScaler()),('lr',lr)])\n",
    "pipe.fit(X_train,y_train)\n",
    "y_pred = pipe.predict(X_test);"
   ]
  },
  {
   "cell_type": "code",
   "execution_count": 449,
   "metadata": {},
   "outputs": [
    {
     "name": "stdout",
     "output_type": "stream",
     "text": [
      "-1.3382605319768656e+23\n",
      "4.4810709696197784e+16\n"
     ]
    }
   ],
   "source": [
    "from sklearn.metrics import r2_score\n",
    "from sklearn.metrics import mean_absolute_error\n",
    "print(r2_score(y_test,y_pred))\n",
    "print(mean_absolute_error(y_test,y_pred))"
   ]
  },
  {
   "cell_type": "markdown",
   "metadata": {},
   "source": [
    "Linear regression gave very bad result,data might not be linearly distributed let's changing it with XGBregressor"
   ]
  },
  {
   "cell_type": "code",
   "execution_count": 450,
   "metadata": {},
   "outputs": [
    {
     "name": "stderr",
     "output_type": "stream",
     "text": [
      "c:\\Users\\dsudi\\AppData\\Local\\Programs\\Python\\Python310\\lib\\site-packages\\sklearn\\preprocessing\\_encoders.py:188: UserWarning: Found unknown categories in columns [0] during transform. These unknown categories will be encoded as all zeros\n",
      "  warnings.warn(\n"
     ]
    }
   ],
   "source": [
    "from xgboost import XGBRegressor\n",
    "from sklearn.preprocessing import StandardScaler\n",
    "from sklearn.pipeline import Pipeline\n",
    "xgb = XGBRegressor(booster = 'gblinear',n_estimators = 500)\n",
    "pipe = Pipeline([('ct',ct),('scaler',StandardScaler()),('xg',xgb)])\n",
    "pipe.fit(X_train,y_train)\n",
    "y_pred = pipe.predict(X_test);"
   ]
  },
  {
   "cell_type": "code",
   "execution_count": 451,
   "metadata": {},
   "outputs": [
    {
     "name": "stdout",
     "output_type": "stream",
     "text": [
      "0.9227028514742395\n",
      "106231.08913324973\n"
     ]
    }
   ],
   "source": [
    "\n",
    "from sklearn.metrics import r2_score\n",
    "from sklearn.metrics import mean_absolute_error\n",
    "print(r2_score(y_test,y_pred))\n",
    "print(mean_absolute_error(y_test,y_pred))"
   ]
  },
  {
   "cell_type": "code",
   "execution_count": 452,
   "metadata": {},
   "outputs": [
    {
     "data": {
      "text/plain": [
       "0.9225599071403962"
      ]
     },
     "execution_count": 452,
     "metadata": {},
     "output_type": "execute_result"
    }
   ],
   "source": [
    "n,p = X_train.shape\n",
    "def adjr2(actual, predicted, rowcount, featurecount):\n",
    "    \n",
    "    return 1-(1-r2_score(actual,predicted))*(rowcount-1)/(rowcount-featurecount)\n",
    "adjr2(y_test,y_pred,n,p)"
   ]
  },
  {
   "cell_type": "markdown",
   "metadata": {},
   "source": [
    "Let's see if removing outliers helps"
   ]
  },
  {
   "cell_type": "code",
   "execution_count": 453,
   "metadata": {},
   "outputs": [],
   "source": [
    "columns = X_train.columns\n",
    "for c in columns:\n",
    "    if X_train[c].dtype == 'object':\n",
    "        continue\n",
    "    q1 = X_train[c].quantile(0.25)\n",
    "    q3 = X_train[c].quantile(0.75)\n",
    "    iqr = q3 - q1\n",
    "    min = q1 - 1.5 * iqr\n",
    "    max = q3 + 1.5 * iqr\n",
    "    X_train.loc[X_train[c] < min, c] = min\n",
    "    X_train.loc[X_train[c] > max, c] = max"
   ]
  },
  {
   "cell_type": "code",
   "execution_count": 454,
   "metadata": {},
   "outputs": [
    {
     "name": "stderr",
     "output_type": "stream",
     "text": [
      "c:\\Users\\dsudi\\AppData\\Local\\Programs\\Python\\Python310\\lib\\site-packages\\sklearn\\preprocessing\\_encoders.py:188: UserWarning: Found unknown categories in columns [0] during transform. These unknown categories will be encoded as all zeros\n",
      "  warnings.warn(\n"
     ]
    }
   ],
   "source": [
    "from xgboost import XGBRegressor\n",
    "from sklearn.preprocessing import StandardScaler\n",
    "from sklearn.pipeline import Pipeline\n",
    "lr = XGBRegressor(booster = 'gblinear')\n",
    "pipe = Pipeline([('ct',ct),('scaler',StandardScaler()),('lr',lr)])\n",
    "pipe.fit(X_train,y_train)\n",
    "y_pred = pipe.predict(X_test);"
   ]
  },
  {
   "cell_type": "code",
   "execution_count": 455,
   "metadata": {},
   "outputs": [
    {
     "name": "stdout",
     "output_type": "stream",
     "text": [
      "0.8936213581177352\n",
      "128400.76719254497\n",
      "0.8934246338609025\n"
     ]
    }
   ],
   "source": [
    "\n",
    "from sklearn.metrics import r2_score\n",
    "from sklearn.metrics import mean_absolute_error\n",
    "print(r2_score(y_test,y_pred))\n",
    "print(mean_absolute_error(y_test,y_pred))\n",
    "print(adjr2(y_test,y_pred,n,p))"
   ]
  },
  {
   "cell_type": "markdown",
   "metadata": {},
   "source": [
    "Did not help, So I will stick with the first model"
   ]
  }
 ],
 "metadata": {
  "kernelspec": {
   "display_name": "Python 3.10.2 64-bit",
   "language": "python",
   "name": "python3"
  },
  "language_info": {
   "codemirror_mode": {
    "name": "ipython",
    "version": 3
   },
   "file_extension": ".py",
   "mimetype": "text/x-python",
   "name": "python",
   "nbconvert_exporter": "python",
   "pygments_lexer": "ipython3",
   "version": "3.10.2"
  },
  "orig_nbformat": 4,
  "vscode": {
   "interpreter": {
    "hash": "18d6701beecf512bb329d8afc849c6be09654d3e83987a0574c7a1a7226b9cc3"
   }
  }
 },
 "nbformat": 4,
 "nbformat_minor": 2
}
